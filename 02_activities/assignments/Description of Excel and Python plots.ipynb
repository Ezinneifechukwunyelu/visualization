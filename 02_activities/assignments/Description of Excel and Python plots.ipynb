{
 "cells": [
  {
   "cell_type": "markdown",
   "id": "61768700",
   "metadata": {},
   "source": [
    "*Data was downloaded from :https://open.toronto.ca/dataset/basement-flooding-by-ward/ (see attached excel file:basement-flooding-by-ward_Assignment 3_raw data)\n",
    "\n",
    "\n",
    "Excel plots(see Excel file,sheet:plots,basement-flooding-by-ward_Assignment 3_Excel plots): Three plots were completed.\n",
    " Two bar charts: To explore the data and see key features. \n",
    " A line plot: which is a plot of the total flood events reported for each ward for the duration shown in the data set. This plot was selected as the plot that best summerizes the data for the intended audience. In this case the audience are engineers who are interested in knowing which wards to proioritize for basement flood managemnet.\n",
    "\n",
    "Python Plot: The line Plot from the excel was replicated using a python code. The data was extracted from the raw file and saved as a .csv file. Which was loaded as a data frame."
   ]
  }
 ],
 "metadata": {
  "language_info": {
   "name": "python"
  }
 },
 "nbformat": 4,
 "nbformat_minor": 5
}
